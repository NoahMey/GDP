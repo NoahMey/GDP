{
 "cells": [
  {
   "cell_type": "markdown",
   "id": "bd1f3523",
   "metadata": {
    "deletable": false,
    "editable": false
   },
   "source": [
    "# Übungen: Grundlagen der Programmierung: Prüfung 1\n",
    "\n",
    "### Herbstsemester 2023\n",
    "\n",
    "\n",
    "##### Bearbeitungszeit:\n",
    "\n",
    "60 Minuten\n",
    "\n",
    "##### Maximal erreichbare Punktzahl: \n",
    "\n",
    "30\n",
    "\n",
    "##### Erlaubte Hilfsmittel: \n",
    "\n",
    "Studierende nicht deutscher Muttersprache dürfen Deepl benutzen um die Aufgaben zu übersetzen. \n",
    "\n",
    "* [Link zu deepl](https://www.deepl.com/translator)"
   ]
  },
  {
   "cell_type": "markdown",
   "id": "61c53bb5",
   "metadata": {
    "deletable": false,
    "editable": false
   },
   "source": [
    "**Schreiben Sie in diese Zelle Ihren Vornamen und Namen und E-Mail Adresse**"
   ]
  },
  {
   "cell_type": "markdown",
   "id": "a64c0141",
   "metadata": {
    "deletable": false,
    "exercise_id": 0
   },
   "source": [
    "Noah Meyer noah.meyer@stud.unibas.ch"
   ]
  },
  {
   "cell_type": "markdown",
   "id": "a5ae5a84",
   "metadata": {
    "deletable": false,
    "editable": false
   },
   "source": [
    "### Aufgabe 1: Anweisungen und Datentypen (2 Punkte)\n",
    "\n",
    "Sie wollen in Ihrem Garten Holzpfosten aufstellen. Sie haben eine Holzstange von 4 Meter Länge und wollen daraus 8 Stück schneiden. Wie lange wird ein Stück sein?\n",
    "\n",
    "-  Erstellen Sie zuerst zwei Variablen vom Typ `int`: Eine mit Namen `length` für die Länge und eine mit Namen `pieces` für die Anzahl.\n",
    "- Geben Sie dann den folgenden Text aus: \"Jedes Stück ist ... m lang.\" wobei die drei Punkte durch das Ergebnis der Berechnung $\\frac{\\text{Länge}}{\\text{Stücke}}$ ersetzt werden sollen.\n",
    "\n",
    "\n",
    " \n",
    "\n"
   ]
  },
  {
   "cell_type": "code",
   "execution_count": 8,
   "id": "4c7e695f",
   "metadata": {
    "deletable": false,
    "exercise_id": 1
   },
   "outputs": [],
   "source": [
    "class Fence {\n",
    "    public static void main(String[] args) {\n",
    "        // Ihre Lösung kommt hier hin\n",
    "        int length = 4;\n",
    "        int pieces = 8;\n",
    "        System.out.println(\"Jedes Stück ist \"+(double)length/pieces+\" m lang.\");\n",
    "        //Annahme wir sollen ein sinvolles ergebnis berechnen\n",
    "        \n",
    "        \n",
    "    }\n",
    "    \n",
    "}"
   ]
  },
  {
   "cell_type": "code",
   "execution_count": 9,
   "id": "9fec43cf",
   "metadata": {
    "deletable": false
   },
   "outputs": [
    {
     "name": "stdout",
     "output_type": "stream",
     "text": [
      "Jedes Stück ist 0.5 m lang.\n"
     ]
    }
   ],
   "source": [
    "Fence.main(new String[0]);"
   ]
  },
  {
   "cell_type": "markdown",
   "id": "914f7816",
   "metadata": {
    "deletable": false,
    "editable": false
   },
   "source": [
    "### Aufgabe 2: Fehler verbessern (2 Punkte)\n",
    "\n",
    "Das nachfolgende Programm kompiliert nicht. Verbessern Sie es und fügen Sie an der jeweiligen Stelle im Programm einen gültigen Java Kommentar hinzu, der erklärt was das Problem war:\n",
    "\n",
    "```java\n",
    "class CompilationWoes {\n",
    "    public static void main(String[] args) {\n",
    "        int i = 1023l;\n",
    "        \n",
    "        System.out.println(\"Der Wert der Zahl i ist \", i);\n",
    "    }\n",
    "}\n",
    "```"
   ]
  },
  {
   "cell_type": "code",
   "execution_count": 207,
   "id": "a7b86e4a",
   "metadata": {
    "deletable": false,
    "exercise_id": 2
   },
   "outputs": [],
   "source": [
    "class CompilationWoes {\n",
    "    public static void main(String[] args) {\n",
    "        int i = 1023;\n",
    "        //Typ ist int, ohne l am Schluss.\n",
    "        \n",
    "        \n",
    "        System.out.println(\"Der Wert der Zahl i ist \"+ i); //Hier kein komma, sondern ein +.\n",
    "    }\n",
    "}"
   ]
  },
  {
   "cell_type": "markdown",
   "id": "ec6b957c",
   "metadata": {
    "deletable": false,
    "editable": false
   },
   "source": [
    "### Aufgabe 3:  Bedingungen (3 Punkte)\n",
    "\n",
    "Schreiben Sie eine Methode `max` welche das Maximum von zwei Zahlen, welche als Parameter übergeben werden, zurück gibt. Diese Methode soll für Gleitkommazahlen funktionieren."
   ]
  },
  {
   "cell_type": "code",
   "execution_count": 205,
   "id": "55a5e720",
   "metadata": {
    "deletable": false,
    "exercise_id": 3
   },
   "outputs": [],
   "source": [
    "class MaximumNumber {    \n",
    "    public static double max(double a, double b){\n",
    "        if (a<=b){\n",
    "            return b;\n",
    "        }\n",
    "        return a;\n",
    "    }\n",
    "\n",
    "    public static void main(String[] args) {\n",
    "        System.out.println(\"Das maximum ist: \" +max(1.0, 2.0));\n",
    "    }\n",
    "}"
   ]
  },
  {
   "cell_type": "code",
   "execution_count": 206,
   "id": "4e6cd6a5",
   "metadata": {},
   "outputs": [
    {
     "name": "stdout",
     "output_type": "stream",
     "text": [
      "Das maximum ist: 2.0\n"
     ]
    }
   ],
   "source": [
    "MaximumNumber.main(new String[0]);"
   ]
  },
  {
   "cell_type": "markdown",
   "id": "dcef215d",
   "metadata": {
    "deletable": false,
    "editable": false
   },
   "source": [
    "### Aufgabe 4: Zusammengesetzte Bedingungen (3 Punkte)\n",
    "\n",
    "Schreiben Sie eine Methode `isInside`, welche zwei Koordinaten $x$ und $y$ als Argumente entgegennimmt, und zurückgibt, ob der Punkt innerhalb der blauen Fläche ist. (Tipp: Nutzen Sie die Kreisungleichung: $x^2 + y^2 \\le r^2$). \n",
    "\n",
    "![image](shape.png)"
   ]
  },
  {
   "cell_type": "code",
   "execution_count": 203,
   "id": "28e65cf7",
   "metadata": {
    "deletable": false,
    "exercise_id": 4
   },
   "outputs": [],
   "source": [
    "class Conditions {\n",
    "    \n",
    "    // annahme Rand gehört dazu\n",
    "    \n",
    "    public static boolean isInside(double x, double y){\n",
    "        int r = 1; //radius für obige Abbildung\n",
    "        if((x<0)&&((y<0.5)&&(y>0))){\n",
    "            return false;\n",
    "        }\n",
    "        if ((Math.pow(x,2)+(Math.pow(y,2))) <= r){\n",
    "            return true;\n",
    "        }\n",
    "        return false;\n",
    "    }\n",
    "    \n",
    "    public static void main(String[] args) {    \n",
    "        System.out.println(isInside(0.0, 0.0));\n",
    "    }\n",
    "    \n",
    "    \n",
    "}"
   ]
  },
  {
   "cell_type": "code",
   "execution_count": 204,
   "id": "a16c098d",
   "metadata": {},
   "outputs": [
    {
     "name": "stdout",
     "output_type": "stream",
     "text": [
      "true\n"
     ]
    }
   ],
   "source": [
    "Conditions.main(new String[0]);"
   ]
  },
  {
   "cell_type": "markdown",
   "id": "dc18d371",
   "metadata": {
    "deletable": false,
    "editable": false
   },
   "source": [
    "### Aufgabe 5: Fraction (2 Punkte)\n",
    "\n",
    "Schreiben Sie eine Methode `asString`, welche zwei Ganzzahlen entgegennimmt, und diese als Bruch formatiert zurückgibt. So soll zum Beispiel `asString(3, 5)` den String `3/5` zurückgeben. Sie dürfen, müssen aber nicht `String.format` verwenden. Falls Sie `String.format` verwenden können Sie das Formatierungszeichen `%d` für Ganzzahlen verwenden. "
   ]
  },
  {
   "cell_type": "code",
   "execution_count": 197,
   "id": "065596f9",
   "metadata": {
    "deletable": false,
    "exercise_id": 5
   },
   "outputs": [],
   "source": [
    "class Fraction {\n",
    "    \n",
    "    // Ihre Lösung\n",
    "    \n",
    "    public static String asString(int a, int b){\n",
    "        return(String.format(\"%d/%d\",a,b));\n",
    "    }\n",
    "    \n",
    "    public static void main(String[] args) {\n",
    "        System.out.println(asString(2, 6));\n",
    "    }\n",
    "}"
   ]
  },
  {
   "cell_type": "code",
   "execution_count": 198,
   "id": "dd5cb60f",
   "metadata": {},
   "outputs": [
    {
     "name": "stdout",
     "output_type": "stream",
     "text": [
      "2/6\n"
     ]
    }
   ],
   "source": [
    "Fraction.main(new String[0]);"
   ]
  },
  {
   "cell_type": "markdown",
   "id": "8677a116",
   "metadata": {
    "deletable": false,
    "editable": false
   },
   "source": [
    "### Aufgabe 6:  Schleifen (4 Punkte)\n",
    "\n",
    "Schreiben Sie eine Methode `drawTriangle`, welches eine Zahl `n` entgegennimmt und \n",
    "ein Dreieck mit Sternchen ausgibt. Für `n=4` soll folgendes Muster entstehen:\n",
    "\n",
    "```\n",
    "*\n",
    "**\n",
    "***\n",
    "****\n",
    "```\n",
    "\n"
   ]
  },
  {
   "cell_type": "code",
   "execution_count": 193,
   "id": "742b3ad3",
   "metadata": {
    "deletable": false,
    "exercise_id": 6
   },
   "outputs": [],
   "source": [
    "class Triangle {\n",
    "    \n",
    "    // Ihre Lösung\n",
    "    public static void drawTriangle(int n){\n",
    "        for (int x = 1; x<=n; x++){\n",
    "            for (int y = 1; y<=x; y++){\n",
    "                System.out.print(\"*\");\n",
    "            }\n",
    "            System.out.println(\"\");\n",
    "        }\n",
    "    }\n",
    "    \n",
    "    \n",
    "    \n",
    "    public static void main(String[] args) {\n",
    "        drawTriangle(5);\n",
    "    }\n",
    "} "
   ]
  },
  {
   "cell_type": "code",
   "execution_count": 194,
   "id": "6dc42e75",
   "metadata": {},
   "outputs": [
    {
     "name": "stdout",
     "output_type": "stream",
     "text": [
      "*\n",
      "**\n",
      "***\n",
      "****\n",
      "*****\n"
     ]
    }
   ],
   "source": [
    "Triangle.main(new String[0]);"
   ]
  },
  {
   "cell_type": "markdown",
   "id": "16243dbb",
   "metadata": {
    "deletable": false,
    "editable": false
   },
   "source": [
    "### Aufgabe 7: Rekursion (4 Punkte)\n",
    "\n",
    "Schreiben Sie eine rekursive Funktion `power`, welches zwei Zahlen `x` und `n` entgegennimmt, und mittels Rekursion die n-te Potenz von $x$ (also $x^n$) berechnet und zurückgibt.  "
   ]
  },
  {
   "cell_type": "code",
   "execution_count": 191,
   "id": "57db2b31",
   "metadata": {
    "deletable": false,
    "exercise_id": 7
   },
   "outputs": [],
   "source": [
    "class Recursion {\n",
    "\n",
    "    // Ihre Lösung\n",
    "    public static int power(int x, int n){\n",
    "        if (n == 0){\n",
    "            return 1;\n",
    "        }\n",
    "        \n",
    "        if (n == 1){\n",
    "            return x;\n",
    "        }\n",
    "        \n",
    "        return (x * power(x, n-1));\n",
    "    }\n",
    "    \n",
    "    public static void main(String[] args) {\n",
    "        System.out.println(power(0, 0));\n",
    "    }\n",
    "}"
   ]
  },
  {
   "cell_type": "code",
   "execution_count": 192,
   "id": "1f2f83a1",
   "metadata": {},
   "outputs": [
    {
     "name": "stdout",
     "output_type": "stream",
     "text": [
      "1\n"
     ]
    }
   ],
   "source": [
    "Recursion.main(new String[0]);"
   ]
  },
  {
   "cell_type": "markdown",
   "id": "4dbdb6a7",
   "metadata": {
    "deletable": false,
    "editable": false
   },
   "source": [
    "### Aufgabe 8: Arrays  (4 Punkte)\n",
    "\n",
    "\n",
    "Schreiben Sie eine Methode `reverse`, welche ein Array von Zahlen entgegennimmt, und ein neues Array zurückgibt, welches die Elemente in genau umgekehrter Reihenfolge enthält."
   ]
  },
  {
   "cell_type": "code",
   "execution_count": 185,
   "id": "a21af536",
   "metadata": {
    "deletable": false,
    "exercise_id": 8
   },
   "outputs": [],
   "source": [
    "class ArrayFun {\n",
    "    \n",
    "    // Ihre Lösung\n",
    "    public static int[] reverse(int[] a){\n",
    "        int[] na = new int[a.length];\n",
    "        for(int x = 0; x<na.length; x++){\n",
    "            na[x] = a[na.length-x-1];\n",
    "        }\n",
    "        return na;\n",
    "    }\n",
    "    \n",
    "    \n",
    "    public static void main(String[] args) {        \n",
    "        System.out.println(Arrays.toString(reverse(new int[]{1,2,2,3,4}))); //annahme int-array\n",
    "        \n",
    "    }\n",
    "}                          "
   ]
  },
  {
   "cell_type": "code",
   "execution_count": 186,
   "id": "af560cff",
   "metadata": {},
   "outputs": [
    {
     "name": "stdout",
     "output_type": "stream",
     "text": [
      "[4, 3, 2, 2, 1]\n"
     ]
    }
   ],
   "source": [
    "ArrayFun.main(new String[0]);"
   ]
  },
  {
   "cell_type": "markdown",
   "id": "a3827e57",
   "metadata": {
    "deletable": false,
    "editable": false
   },
   "source": [
    "\n",
    "### Aufgabe 9: Freies Programmieren (6 Punkte)\n",
    "\n",
    "Schreiben Sie eine Methode `playRoulette`, welches ein Roulettespiel simuliert. Dabei soll der Aufrufer angeben können, mit welcher Farbe er spielt und welchen Betrag er setzt. Zurückgegeben wird der Betrag, der der Spieler gewonnen hat. Die Gewinnwahrscheinlichkeiten für Rot sind `18/37` und für Schwarz `18/37`. Wählen Sie geeignete Datentypen.\n",
    "\n",
    "Um eine zufällige Zahl zu erzeugen, können Sie die Methode `Math.random()` verwenden. \n",
    "\n",
    "\n",
    "\n"
   ]
  },
  {
   "cell_type": "code",
   "execution_count": 181,
   "id": "4572bfbe",
   "metadata": {
    "deletable": false,
    "exercise_id": 9
   },
   "outputs": [],
   "source": [
    "class Roulette {\n",
    "    // Ihre Lösung\n",
    "    public static int playRoulette(int bet){ // Annahme 50-50 Chance für gewinn/verlust\n",
    "        double rn1 = Math.random();\n",
    "        long rn2 = (Math.round(rn1));\n",
    "        int rn3 = (int)(rn2);\n",
    "        //int rn = (int)(Math.round(Math.random())); //math.random gibt 50-50 chance als double. mit 1 = Gewinnen, 0 = verloren.\n",
    "        if (rn3 == 0){ //Math.round() für Runden auf nächste Ganzzahl auf/ab und ist vom Typ long\n",
    "            return 0;\n",
    "        }\n",
    "        return (2*bet); //Annahme: Das geld, welches er zurück bekommt, also mit seinem Einsatz\n",
    "    }\n",
    "    \n",
    "    public static double proba(int games){\n",
    "        double count = 0.0;\n",
    "        for (int x = 0; x<games;x++){\n",
    "            if (playRoulette(10) == 0){\n",
    "                count += 1;\n",
    "            }\n",
    "        }\n",
    "        return (count/games);\n",
    "    }\n",
    "    \n",
    "    public static void main(String[] args) {\n",
    "        int einsatz = 10;\n",
    "        String f = \"farbe\"; //Farbe ist egal! Einfach 50-50 Chance!\n",
    "        \n",
    "        System.out.println(playRoulette(einsatz));\n",
    "        \n",
    "        System.out.println(proba(10000)); //Check Probability here should be around 0.5, because there are only 2 cases.\n",
    "    }\n",
    "}"
   ]
  },
  {
   "cell_type": "code",
   "execution_count": 182,
   "id": "dca614cf",
   "metadata": {},
   "outputs": [
    {
     "name": "stdout",
     "output_type": "stream",
     "text": [
      "20\n",
      "0.5066\n"
     ]
    }
   ],
   "source": [
    "Roulette.main(new String[0]);"
   ]
  },
  {
   "cell_type": "code",
   "execution_count": null,
   "id": "8b087e7e",
   "metadata": {},
   "outputs": [],
   "source": []
  }
 ],
 "metadata": {
  "celltoolbar": "Edit Metadata",
  "exercise_series": "gdp",
  "kernelspec": {
   "display_name": "Java",
   "language": "java",
   "name": "java"
  },
  "language_info": {
   "codemirror_mode": "java",
   "file_extension": ".jshell",
   "mimetype": "text/x-java-source",
   "name": "Java",
   "pygments_lexer": "java",
   "version": "11.0.17+8-post-Ubuntu-1ubuntu220.04"
  },
  "notebook_id": 2301
 },
 "nbformat": 4,
 "nbformat_minor": 5
}
